{
 "cells": [
  {
   "cell_type": "code",
   "execution_count": 1,
   "metadata": {
    "collapsed": true
   },
   "outputs": [],
   "source": [
    "import numpy as np\n",
    "import csv\n",
    "from sklearn.preprocessing import MinMaxScaler"
   ]
  },
  {
   "cell_type": "code",
   "execution_count": 2,
   "metadata": {
    "collapsed": true
   },
   "outputs": [],
   "source": [
    "X = list()\n",
    "y = list()\n",
    "with open(\"winequality.red.csv\") as infile:\n",
    "    f_csv = csv.reader(infile)\n",
    "    header = next(f_csv)\n",
    "    for row in f_csv:\n",
    "        ar = np.float32(list(row[0].split(\";\")))\n",
    "        feat = ar[ : -1]\n",
    "        X.append(feat.T)\n",
    "        label = (np.int32)(ar[-1])\n",
    "        y.append(label)\n",
    "min_max_scaler = MinMaxScaler()\n",
    "X_minmax = min_max_scaler.fit_transform(X)"
   ]
  },
  {
   "cell_type": "code",
   "execution_count": 7,
   "metadata": {
    "collapsed": true
   },
   "outputs": [],
   "source": [
    "from sklearn.linear_model import LinearRegression\n",
    "from sklearn.cross_validation import train_test_split"
   ]
  },
  {
   "cell_type": "code",
   "execution_count": 8,
   "metadata": {
    "collapsed": false
   },
   "outputs": [
    {
     "name": "stdout",
     "output_type": "stream",
     "text": [
      "0.395226294375\n"
     ]
    }
   ],
   "source": [
    "x_train, x_test, y_train, y_test = train_test_split(X_minmax, y)\n",
    "clf = LinearRegression()\n",
    "clf.fit(x_train, y_train)\n",
    "pred = clf.predict(x_test)\n",
    "print clf.score(x_test, y_test)"
   ]
  },
  {
   "cell_type": "code",
   "execution_count": 9,
   "metadata": {
    "collapsed": true
   },
   "outputs": [],
   "source": [
    "import tensorflow as tf"
   ]
  },
  {
   "cell_type": "code",
   "execution_count": null,
   "metadata": {
    "collapsed": true
   },
   "outputs": [],
   "source": [
    "feats = tf.placeholder(\"float\", [None, 11])\n",
    "labels = tf.placeholder(\"float\", [None, 10])\n",
    "\n",
    "W = tf.Variable(tf.zeros([11, 10]))\n",
    "b = tf.Variable(tf.zeros([10]))\n",
    "\n",
    "y_ = tf.nn.softmax(tf.matmul(feats, W) + b)"
   ]
  },
  {
   "cell_type": "code",
   "execution_count": null,
   "metadata": {
    "collapsed": true
   },
   "outputs": [],
   "source": [
    "loss = tf.reduce_sum(labels*tf.log(y_))\n",
    "optimizer = tf.train.GradientDescentOptimizer(0.1).minimize(loss)"
   ]
  },
  {
   "cell_type": "code",
   "execution_count": null,
   "metadata": {
    "collapsed": true
   },
   "outputs": [],
   "source": [
    "with tf.Session() as sess:\n",
    "    sess.run(tf.initialize_all_variables())\n",
    "    batch_feats, batch_labels = mnist.train.next_batch(5)\n",
    "    \n",
    "    correct_prediction = tf.equal(tf.argmax(labels,1), tf.argmax(y_,1))\n",
    "    accuracy = tf.reduce_mean(tf.cast(correct_prediction, \"float\"))\n",
    "    accuracy = tf.reduce_mean()\n",
    "    \n",
    "    for times in range(10000):\n",
    "        tf.run(optimizer, feed_dict = {feats:batch_feats, labels:batch_labels})\n",
    "        if times % 100 = 0:\n",
    "            print(\"Iter:\", times, \"prediction accuracy: \", \n",
    "                  sess.run(accuracy, feed_dict={feats: train_feats, labels: train_labels}))\n",
    "    \n",
    "    \n",
    "    print(\"prediction accuracy for test set: \", \n",
    "                  sess.run(accuracy, feed_dict={feats: test_feats, labels: test_labels}))"
   ]
  }
 ],
 "metadata": {
  "kernelspec": {
   "display_name": "Python 2",
   "language": "python",
   "name": "python2"
  },
  "language_info": {
   "codemirror_mode": {
    "name": "ipython",
    "version": 2
   },
   "file_extension": ".py",
   "mimetype": "text/x-python",
   "name": "python",
   "nbconvert_exporter": "python",
   "pygments_lexer": "ipython2",
   "version": "2.7.6"
  }
 },
 "nbformat": 4,
 "nbformat_minor": 0
}
